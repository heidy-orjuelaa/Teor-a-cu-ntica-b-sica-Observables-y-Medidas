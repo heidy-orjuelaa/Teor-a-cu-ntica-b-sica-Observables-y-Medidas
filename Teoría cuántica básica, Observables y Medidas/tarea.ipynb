{
 "cells": [
  {
   "cell_type": "markdown",
   "metadata": {},
   "source": [
    "# **Teoría cuántica básica, Observables y Medidas**"
   ]
  },
  {
   "cell_type": "markdown",
   "metadata": {},
   "source": [
    "A continuación daremos una explicación básica pero concreta sobre los temas a tratar en este documento. \n",
    "\n",
    "### * *Teoría cuántica básica*  \n",
    "La teoría cuántica describe el comportamiento de partículas a escalas microscópicas, donde las leyes de la mecánica clásica dejan de ser válidas. Se basa en principios como la dualidad onda-partícula, la superposición y la cuantización de ciertas magnitudes físicas.\n",
    "\n",
    "### * *Observables*  \n",
    "Son las magnitudes físicas que se pueden medir en un sistema cuántico, como la energía, la posición o el momento. Matemáticamente, los observables se representan por operadores hermíticos en un espacio de Hilbert, y sus valores posibles corresponden a los autovalores de estos operadores.\n",
    "\n",
    "### * *Medidas*  \n",
    "La medición en mecánica cuántica colapsa el estado del sistema a un estado propio del observable medido. Según la interpretación de Copenhague, antes de medir, el sistema está en una superposición de estados; tras la medición, adopta uno de los valores propios del observable con una probabilidad dada por la función de onda.\n",
    "\n",
    "Teniendo presente lo anterior, vamos a realizar ahora son una serie de ejercicio sobre la sección 4 de libro \"Quantum Computing for Computer Scientists\" para reforzar y entender mejor los conceptos. "
   ]
  },
  {
   "cell_type": "markdown",
   "metadata": {},
   "source": [
    "## **EJERCICIOS**"
   ]
  },
  {
   "cell_type": "markdown",
   "metadata": {},
   "source": [
    "### 1. Simule el primer sistema cuántico descrito en la sección 4.1.\n",
    "\n",
    "El sistema consiste en una partícula confinada a un conjunto discreto de posiciones en una línea. El simulador debe permitir especificar el número de posiciones y un vector ket de estado asignando las amplitudes.\n",
    "\n",
    "*a.*  El sistema debe calcular la probabilidad de encontrarlo en una posición en particular.\n",
    "\n",
    "*b.*  El sistema si se le da otro vector Ket debe buscar la probabilidad de transitar del primer vector al segundo."
   ]
  },
  {
   "cell_type": "code",
   "execution_count": null,
   "metadata": {},
   "outputs": [],
   "source": [
    "%pip install numpy\n",
    "%pip install stdin"
   ]
  },
  {
   "cell_type": "code",
   "execution_count": 6,
   "metadata": {},
   "outputs": [
    {
     "name": "stdout",
     "output_type": "stream",
     "text": [
      "Punto 1:\n",
      "La probabilidad en la posición  0 es de: 0.0008183306055646482 %\n"
     ]
    }
   ],
   "source": [
    "# Ejercicio A \n",
    "\n",
    "import numpy as np\n",
    "from sys import stdin\n",
    "\n",
    "vector_datos = np.array([1, 2, 34, 5, 6])\n",
    "posicion = 0\n",
    "numerador = np.abs(vector_datos[posicion])**2\n",
    "denominador = np.linalg.norm(vector_datos)**2\n",
    "\n",
    "if denominador == 0:\n",
    "    raise ValueError(\"Error por división por 0\")\n",
    "\n",
    "probabilidad = (numerador / denominador).item()\n",
    "print(\"Punto 1:\\nLa probabilidad en la posición \", posicion, \"es de:\", probabilidad, \"%\")"
   ]
  },
  {
   "cell_type": "code",
   "execution_count": 8,
   "metadata": {},
   "outputs": [
    {
     "name": "stdout",
     "output_type": "stream",
     "text": [
      "Punto 2:\n",
      "Primer vector: [1 2 3 4 5 6] \n",
      "Segundo vector [0 0 3 0 0 0]\n",
      "La probabilidad de transitar del primer vector al segundo es de: 0.0989010989010989 %\n"
     ]
    }
   ],
   "source": [
    "# Ejercicio B\n",
    "\n",
    "import numpy as np\n",
    "\n",
    "vector_original = np.array([1, 2, 3, 4, 5, 6])\n",
    "posicion = 2\n",
    "\n",
    "vector_modificado = np.array([(0 if i != posicion else vector_original[i].item()) for i in range(len(vector_original))])\n",
    "\n",
    "print(\"Punto 2:\\nPrimer vector:\", vector_original, \"\\nSegundo vector\", vector_modificado)\n",
    "\n",
    "vector_original = vector_original / np.linalg.norm(vector_original)\n",
    "vector_modificado = vector_modificado / np.linalg.norm(vector_modificado)\n",
    "\n",
    "producto_interno = np.vdot(vector_modificado, vector_original)\n",
    "probabilidad_transicion = (np.abs(producto_interno))**2\n",
    "resultado = probabilidad_transicion.item()\n",
    "\n",
    "print(\"La probabilidad de transitar del primer vector al segundo es de:\", resultado, \"%\")"
   ]
  },
  {
   "cell_type": "markdown",
   "metadata": {},
   "source": [
    "### 2. Complete los retos de programación del capítulo 4.\n",
    "\n",
    "*a.* Amplitud de transición. El sistema puede recibir dos vectores y calcular la probabilidad de transitar de el uno al otro después de hacer la observación\n",
    "\n",
    "*b.* Ahora con una matriz que describa un observable y un vector ket, el sistema revisa que la matriz sea hermitiana, y si lo es, calcula la media y la varianza del observable en el estado dado.\n",
    "\n",
    "*c.* El sistema calcula los valores propios del observable y la probabilidad de que el sistema transite a alguno de los vectores propios después de la observación.\n",
    "\n",
    "*d.* Se considera la dinámica del sistema. Ahora con una serie de matrices Un el sistema calcula el estado final a partir de un estado inicial."
   ]
  },
  {
   "cell_type": "code",
   "execution_count": null,
   "metadata": {},
   "outputs": [
    {
     "name": "stdout",
     "output_type": "stream",
     "text": [
      "La probabilidad de transición es: 0\n"
     ]
    }
   ],
   "source": [
    "# Ejercicio A\n",
    "\n",
    "import numpy as np\n",
    "\n",
    "vector_estado_inicial = np.array([1, 0, 0])  # Estado cuántico inicial\n",
    "vector_estado_final = np.array([0, 0, 1])  # Estado cuántico final\n",
    "\n",
    "# Cálculo del producto interno entre los estados\n",
    "amplitud_transicion = np.vdot(vector_estado_final, vector_estado_inicial)\n",
    "\n",
    "# Cálculo de la probabilidad de transición después de la observación\n",
    "probabilidad_transicion = np.abs(amplitud_transicion)**2\n",
    "\n",
    "print(\"La probabilidad de transición es:\", probabilidad_transicion)"
   ]
  },
  {
   "cell_type": "code",
   "execution_count": 14,
   "metadata": {},
   "outputs": [
    {
     "name": "stdout",
     "output_type": "stream",
     "text": [
      "La media del observable es: 2.5000000000000004\n",
      "La varianza del observable es: 0.25\n"
     ]
    }
   ],
   "source": [
    "# Ejercicio B\n",
    "\n",
    "import numpy as np\n",
    "\n",
    "def calcular_media_varianza(matriz_observable, vector_estado):\n",
    "    # Comprobar si la matriz es hermítica\n",
    "    if not np.allclose(matriz_observable, matriz_observable.conj().T):\n",
    "        return \"La matriz observable no es hermítica\"\n",
    "\n",
    "    # Cálculo de la media\n",
    "    valor_esperado = np.dot(vector_estado.conj().T, np.dot(matriz_observable, vector_estado)).real\n",
    "\n",
    "    # Cálculo de la varianza\n",
    "    estado_transformado = np.dot(matriz_observable, vector_estado)\n",
    "    varianza = np.dot(vector_estado.conj().T, np.dot(matriz_observable, estado_transformado)).real - valor_esperado ** 2\n",
    "\n",
    "    return valor_esperado, varianza\n",
    "\n",
    "# Definición del observable y el ket\n",
    "matriz_observable = np.array([[1, 1j], [-1j, 2]])  \n",
    "vector_estado = np.array([np.sqrt(2)/2, np.sqrt(2)/2j])\n",
    "\n",
    "# Cálculo de la media y varianza\n",
    "media, varianza = calcular_media_varianza(matriz_observable, vector_estado)\n",
    "\n",
    "# Impresión de resultados\n",
    "print(\"La media del observable es:\", media.item())\n",
    "print(\"La varianza del observable es:\", varianza.item())\n"
   ]
  },
  {
   "cell_type": "code",
   "execution_count": 15,
   "metadata": {},
   "outputs": [
    {
     "name": "stdout",
     "output_type": "stream",
     "text": [
      "Valores propios del observable: [ 1. -1.]\n",
      "Probabilidades de transición a los vectores propios: [[1.]\n",
      " [0.]]\n"
     ]
    }
   ],
   "source": [
    "# Ejercicio C\n",
    "\n",
    "import numpy as np\n",
    "\n",
    "def calcular_probabilidad_transicion(matriz_observable, vector_estado):\n",
    "    # Calcula los valores y vectores propios de la matriz observable\n",
    "    valores_propios, vectores_propios = np.linalg.eig(matriz_observable)\n",
    "\n",
    "    # Calcula las probabilidades de transición a los vectores propios\n",
    "    probabilidades_transicion = np.abs(np.dot(vectores_propios.conj().T, vector_estado)) ** 2\n",
    "\n",
    "    return valores_propios, probabilidades_transicion\n",
    "\n",
    "# Definición del observable y el ket\n",
    "matriz_observable = np.array([[1, 0], [0, -1]])  # Matriz hermítica de ejemplo\n",
    "vector_estado = np.array([[1], [0]])  # Vector ket de ejemplo\n",
    "\n",
    "# Cálculo de los valores propios y probabilidades de transición\n",
    "valores_propios, probabilidades_transicion = calcular_probabilidad_transicion(matriz_observable, vector_estado)\n",
    "\n",
    "# Impresión de resultados\n",
    "print(\"Valores propios del observable:\", valores_propios)\n",
    "print(\"Probabilidades de transición a los vectores propios:\", probabilidades_transicion)\n"
   ]
  },
  {
   "cell_type": "code",
   "execution_count": 16,
   "metadata": {},
   "outputs": [
    {
     "name": "stdout",
     "output_type": "stream",
     "text": [
      "El estado final del sistema es: [0 1]\n"
     ]
    }
   ],
   "source": [
    "# Ejercicio D\n",
    "\n",
    "import numpy as np\n",
    "\n",
    "def aplicar_transformaciones_cuánticas(estado_inicial, lista_matrices_unitarias):\n",
    "    estado_actual = estado_inicial\n",
    "    for matriz_unitaria in lista_matrices_unitarias:\n",
    "        estado_actual = np.dot(matriz_unitaria, estado_actual)\n",
    "    return estado_actual\n",
    "\n",
    "# Definición del estado inicial y matrices unitarias\n",
    "estado_inicial = np.array([1, 0])  \n",
    "matrices_unitarias = [\n",
    "    np.array([[0, 1], [1, 0]]),  # Matriz de Pauli X (puerta NOT cuántica)\n",
    "    np.array([[1, 0], [0, 1]])   # Matriz identidad (no cambia el estado)\n",
    "]\n",
    "\n",
    "# Cálculo del estado final\n",
    "estado_final = aplicar_transformaciones_cuánticas(estado_inicial, matrices_unitarias)\n",
    "\n",
    "# Impresión del resultado\n",
    "print(\"El estado final del sistema es:\", estado_final)"
   ]
  },
  {
   "cell_type": "markdown",
   "metadata": {},
   "source": [
    "### 3. Realice los siguientes problemas e incluyalos como ejemplos\n",
    "\n",
    "Modele en su librería los problemas\n",
    "\n",
    "* 4.3.1\n",
    "* 4.3.2\n",
    "* 4.4.1\n",
    "* 4.4.2\n",
    "\n",
    "Desarrolle e incluya en el Github una discusión de los ejercicios 4.5.2 y 4.5.3"
   ]
  },
  {
   "cell_type": "markdown",
   "metadata": {},
   "source": [
    "### Ejercicio 4.3.1\n",
    "\n",
    "Find all the possible states the system described in Exercise 4.2.2 can transition into after a measurement has been carried out."
   ]
  },
  {
   "cell_type": "code",
   "execution_count": 17,
   "metadata": {},
   "outputs": [
    {
     "name": "stdout",
     "output_type": "stream",
     "text": [
      "Probabilidad de transición a estado |0⟩ (spin up): 0\n",
      "Probabilidad de transición a estado |1⟩ (spin down): 1\n"
     ]
    }
   ],
   "source": [
    "import numpy as np\n",
    "\n",
    "# Definición del estado inicial |ψ⟩ = |0⟩ (spin up en la base estándar)\n",
    "estado_inicial = np.array([1, 0])\n",
    "\n",
    "# Matriz de Pauli σx (operador de cambio de spin)\n",
    "matriz_sigma_x = np.array([[0, 1], [1, 0]])\n",
    "\n",
    "# Aplicación de σx al estado inicial\n",
    "estado_resultante = np.dot(matriz_sigma_x, estado_inicial)\n",
    "\n",
    "# Cálculo de probabilidades de transición\n",
    "probabilidad_spin_up = abs(estado_resultante[0])**2\n",
    "probabilidad_spin_down = abs(estado_resultante[1])**2\n",
    "\n",
    "# Impresión de resultados\n",
    "print(\"Probabilidad de transición a estado |0⟩ (spin up):\", probabilidad_spin_up)\n",
    "print(\"Probabilidad de transición a estado |1⟩ (spin down):\", probabilidad_spin_down)"
   ]
  },
  {
   "cell_type": "markdown",
   "metadata": {},
   "source": [
    "#### Ejercicio 4.3.2\n",
    "\n",
    "Perform the same calculations as in the last example, using Exercise 4.3.1. Then draw the probability distribution of the eigenvalues as in the previous example."
   ]
  },
  {
   "cell_type": "code",
   "execution_count": 18,
   "metadata": {},
   "outputs": [
    {
     "name": "stdout",
     "output_type": "stream",
     "text": [
      "Probabilidad de transición a estado |0⟩ (spin up): 0.0\n",
      "Probabilidad de transición a estado |1⟩ (spin down): 1.0\n"
     ]
    },
    {
     "data": {
      "image/png": "[encoded data removed]",
      "text/plain": [
       "<Figure size 640x480 with 1 Axes>"
      ]
     },
     "metadata": {},
     "output_type": "display_data"
    }
   ],
   "source": [
    "import numpy as np\n",
    "import matplotlib.pyplot as plt\n",
    "\n",
    "# Definición del estado inicial |ψ⟩ = |0⟩ (spin up en la base estándar)\n",
    "estado_inicial = np.array([1, 0])\n",
    "\n",
    "# Matriz de Pauli σy\n",
    "matriz_sigma_y = np.array([[0, -1j], [1j, 0]])\n",
    "\n",
    "# Aplicación de σy al estado inicial\n",
    "estado_resultante = np.dot(matriz_sigma_y, estado_inicial)\n",
    "\n",
    "# Cálculo de probabilidades de transición\n",
    "probabilidad_spin_up = abs(estado_resultante[0])**2\n",
    "probabilidad_spin_down = abs(estado_resultante[1])**2\n",
    "\n",
    "# Impresión de resultados\n",
    "print(\"Probabilidad de transición a estado |0⟩ (spin up):\", probabilidad_spin_up)\n",
    "print(\"Probabilidad de transición a estado |1⟩ (spin down):\", probabilidad_spin_down)\n",
    "\n",
    "# Cálculo de valores propios para graficar\n",
    "valores_propios, _ = np.linalg.eig(matriz_sigma_y)\n",
    "\n",
    "# Gráfico de distribución de probabilidades\n",
    "plt.bar(np.arange(len(valores_propios)), abs(estado_resultante)**2)\n",
    "plt.xticks(np.arange(len(valores_propios)), np.round(valores_propios, 2))\n",
    "plt.xlabel('Valores propios')\n",
    "plt.ylabel('Probabilidad')\n",
    "plt.title('Distribución de probabilidades para valores propios de σy')\n",
    "plt.show()"
   ]
  },
  {
   "cell_type": "markdown",
   "metadata": {},
   "source": [
    "### Ejercicio 4.4.1\n",
    "\n",
    "Verify that  \n",
    "$$ U_1 = \\begin{pmatrix} 0 & 1 \\\\ 1 & 0 \\end{pmatrix} $$  \n",
    "and  \n",
    "$$ U_2 = \\begin{pmatrix} \\frac{\\sqrt{2}}{2} & \\frac{\\sqrt{2}}{2} \\\\ \\frac{\\sqrt{2}}{2} & -\\frac{\\sqrt{2}}{2} \\end{pmatrix} $$  \n",
    "are unitary matrices.  \n",
    "\n",
    "Multiply them and verify that their product is also unitary.  \n",
    "\n"
   ]
  },
  {
   "cell_type": "code",
   "execution_count": 19,
   "metadata": {},
   "outputs": [
    {
     "name": "stdout",
     "output_type": "stream",
     "text": [
      "La matriz U1 es unitaria.\n",
      "La matriz U2 es unitaria.\n",
      "El producto de U1 y U2 es unitario.\n"
     ]
    }
   ],
   "source": [
    "import numpy as np\n",
    "\n",
    "# Definición de las matrices unitarias\n",
    "matriz_U1 = np.array([[0, 1], [1, 0]])\n",
    "matriz_U2 = np.array([[np.sqrt(2)/2, np.sqrt(2)/2], [np.sqrt(2)/2, -np.sqrt(2)/2]])\n",
    "\n",
    "# Verificación de unitariedad de U1 y U2\n",
    "es_unitaria_U1 = \"es\" if np.allclose(np.dot(matriz_U1.conj().T, matriz_U1), np.eye(2)) else \"no es\"\n",
    "es_unitaria_U2 = \"es\" if np.allclose(np.dot(matriz_U2.conj().T, matriz_U2), np.eye(2)) else \"no es\"\n",
    "\n",
    "# Producto de U1 y U2\n",
    "producto_U1_U2 = np.dot(matriz_U1, matriz_U2)\n",
    "\n",
    "# Verificación de unitariedad del producto\n",
    "es_unitaria_producto = \"es\" if np.allclose(np.dot(producto_U1_U2.conj().T, producto_U1_U2), np.eye(2)) else \"no es\"\n",
    "\n",
    "# Impresión de resultados\n",
    "print(\"La matriz U1\", es_unitaria_U1, \"unitaria.\")\n",
    "print(\"La matriz U2\", es_unitaria_U2, \"unitaria.\")\n",
    "print(\"El producto de U1 y U2\", es_unitaria_producto, \"unitario.\")"
   ]
  },
  {
   "cell_type": "markdown",
   "metadata": {},
   "source": []
  },
  {
   "cell_type": "code",
   "execution_count": 20,
   "metadata": {},
   "outputs": [
    {
     "name": "stdout",
     "output_type": "stream",
     "text": [
      "El estado del sistema después de 3 pasos de tiempo es: [ 0.        +0.j         -0.70710678+0.70710678j  0.        +0.j\n",
      "  0.        +0.j        ]\n",
      "Probabilidad de encontrar la partícula en el punto 3: 0.0\n"
     ]
    }
   ],
   "source": [
    "import numpy as np\n",
    "\n",
    "# Definición del operador de evolución (mapa cuántico)\n",
    "operador_evolucion = np.array([\n",
    "    [0, 1/np.sqrt(2), 1/np.sqrt(2), 0],\n",
    "    [1j/np.sqrt(2), 0, 0, 1/np.sqrt(2)],\n",
    "    [1/np.sqrt(2), 0, 0, 1j/np.sqrt(2)],\n",
    "    [0, 1/np.sqrt(2), -1/np.sqrt(2), 0]\n",
    "])\n",
    "\n",
    "# Estado inicial del sistema\n",
    "estado_inicial = np.array([1, 0, 0, 0])\n",
    "\n",
    "# Evolución del estado tras 3 iteraciones del operador\n",
    "estado_despues_tres_pasos = np.linalg.matrix_power(operador_evolucion, 3) @ estado_inicial\n",
    "\n",
    "# Cálculo de la probabilidad de encontrar la partícula en el tercer punto\n",
    "probabilidad_en_punto_3 = np.abs(estado_despues_tres_pasos[2])**2\n",
    "\n",
    "# Impresión de resultados\n",
    "print(\"El estado del sistema después de 3 pasos de tiempo es:\", estado_despues_tres_pasos)\n",
    "print(\"Probabilidad de encontrar la partícula en el punto 3:\", probabilidad_en_punto_3)"
   ]
  },
  {
   "cell_type": "markdown",
   "metadata": {},
   "source": [
    "## Segunda Parte\n",
    "\n",
    "Desarrolle e incluya en el Github una discusión de los ejercicios"
   ]
  },
  {
   "cell_type": "markdown",
   "metadata": {},
   "source": [
    "\n",
    "## Ejercicio 4.5.2  \n",
    "\n",
    "Write down the generic state vector for the system of two particles with spin. Generalize it to a system with n particles (this is important: it will be the physical realization for quantum registers!).  \n",
    "\n",
    "### **Respuesta:**  \n",
    "\n",
    "Para un sistema compuesto por dos partículas con espín, el vector de estado general, denotado como $$|\\Psi\\rangle $$, se obtiene mediante el producto tensorial de los estados individuales:  \n",
    "\n",
    "$$\n",
    "|\\Psi\\rangle = |\\psi_1\\rangle \\otimes |\\psi_2\\rangle\n",
    "$$  \n",
    "\n",
    "Este concepto se extiende a un sistema con \\( n \\) partículas, aplicando el producto tensorial a todos los estados individuales:  \n",
    "\n",
    "$$\n",
    "|\\Psi\\rangle = |\\psi_1\\rangle \\otimes |\\psi_2\\rangle \\otimes \\dots \\otimes |\\psi_n\\rangle\n",
    "$$  "
   ]
  },
  {
   "cell_type": "markdown",
   "metadata": {},
   "source": [
    "## Ejercicio 4.5.3  \n",
    "\n",
    "Assume the same scenario as in Example 4.5.2 and let\n",
    "\n",
    "$$\n",
    "|\\alpha\\rangle \\otimes |\\beta\\rangle = (a|x_0\\rangle + b|x_1\\rangle) \\otimes (c|y_0\\rangle + d|y_1\\rangle)\n",
    "$$  \n",
    "\n",
    "Is this state separable? \n",
    "\n",
    "### **Respuesta:**  \n",
    "\n",
    "Expresamos $$ |\\phi\\rangle $$ en términos de la base:  \n",
    "\n",
    "$$\n",
    "|\\phi\\rangle = |x_0\\rangle \\otimes |y_1\\rangle + |x_1\\rangle \\otimes |y_0\\rangle\n",
    "$$  \n",
    "\n",
    "Intentamos escribir esto como un producto tensorial de dos estados. Buscaremos estados $ |\\alpha\\rangle $ y $ |\\beta\\rangle $ tales que:  \n",
    "\n",
    "$$\n",
    "|\\alpha\\rangle \\otimes |\\beta\\rangle = (a|x_0\\rangle + b|x_1\\rangle) \\otimes (c|y_0\\rangle + d|y_1\\rangle)\n",
    "$$  \n",
    "\n",
    "Expandiendo el producto tensorial, obtenemos:  \n",
    "\n",
    "$$\n",
    "|\\alpha\\rangle \\otimes |\\beta\\rangle = ac |x_0\\rangle \\otimes |y_0\\rangle + ad |x_0\\rangle \\otimes |y_1\\rangle + bc |x_1\\rangle \\otimes |y_0\\rangle + bd |x_1\\rangle \\otimes |y_1\\rangle\n",
    "$$  \n",
    "\n",
    "Comparando esto con la expresión para $ |\\phi\\rangle $, podemos ver que no es posible encontrar coeficientes $ a, b, c $ y $ d $ de manera que ambas expresiones sean iguales.  \n",
    "\n",
    "Por lo tanto, el estado $ |\\phi\\rangle $ dado por la ecuación no es separable, lo que significa que está entrelazado.\n"
   ]
  }
 ],
 "metadata": {
  "kernelspec": {
   "display_name": "Python 3",
   "language": "python",
   "name": "python3"
  },
  "language_info": {
   "codemirror_mode": {
    "name": "ipython",
    "version": 3
   },
   "file_extension": ".py",
   "mimetype": "text/x-python",
   "name": "python",
   "nbconvert_exporter": "python",
   "pygments_lexer": "ipython3",
   "version": "3.12.3"
  }
 },
 "nbformat": 4,
 "nbformat_minor": 2
}
